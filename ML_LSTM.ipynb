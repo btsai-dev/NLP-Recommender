{
 "cells": [
  {
   "cell_type": "code",
   "execution_count": 87,
   "id": "c32df6f7-b4a2-4b64-8c3c-ff5fdbe6ef2d",
   "metadata": {},
   "outputs": [],
   "source": [
    "import gzip\n",
    "import json\n",
    "import numpy as np\n",
    "from tqdm import tqdm\n",
    "from collections import defaultdict\n",
    "import csv\n",
    "from html.parser import HTMLParser\n",
    "from io import StringIO\n",
    "import re\n",
    "import pandas as pd\n",
    "import random\n",
    "from random import sample\n",
    "import os.path\n",
    "import torch\n",
    "from torch.utils.data import Dataset\n",
    "from ast import literal_eval\n",
    "from tqdm.auto import tqdm\n",
    "tqdm.pandas()\n",
    "import matplotlib.pyplot as plt\n",
    "from prettytable import PrettyTable\n",
    "from sklearn.model_selection import train_test_split\n",
    "from sklearn.model_selection import KFold\n",
    "from sklearn.model_selection import cross_val_score\n",
    "import copy\n",
    "from torchmetrics.functional import r2_score\n",
    "from sklearn.manifold import TSNE\n",
    "\n",
    "import fasttext\n",
    "torch.set_printoptions(threshold=10_000)\n",
    "np.set_printoptions(linewidth=120)\n",
    "pd.set_option('display.width', 120)"
   ]
  },
  {
   "cell_type": "code",
   "execution_count": 61,
   "id": "6287a840-1378-45e9-bfaf-f48901b9d1cc",
   "metadata": {},
   "outputs": [],
   "source": [
    "# Prameter counting for debugging: https://stackoverflow.com/questions/49201236/check-the-total-number-of-parameters-in-a-pytorch-model\n",
    "def count_parameters(model):\n",
    "    table = PrettyTable([\"Modules\", \"Parameters\"])\n",
    "    total_params = 0\n",
    "    for name, parameter in model.named_parameters():\n",
    "        if not parameter.requires_grad:\n",
    "            continue\n",
    "        params = parameter.numel()\n",
    "        table.add_row([name, params])\n",
    "        total_params += params\n",
    "    print(table)\n",
    "    print(f\"Total Trainable Params: {total_params}\")\n",
    "    return total_params"
   ]
  },
  {
   "cell_type": "code",
   "execution_count": 3,
   "id": "748227fc-67d8-4b21-bcf2-42585d276f5c",
   "metadata": {},
   "outputs": [
    {
     "name": "stdout",
     "output_type": "stream",
     "text": [
      "Is CUDA supported by this system?  True\n",
      "CUDA version: 12.1\n",
      "ID of current CUDA device: 0\n",
      "Name of current CUDA device: NVIDIA GeForce RTX 2070 SUPER\n",
      "cuda\n"
     ]
    }
   ],
   "source": [
    "print(f\"Is CUDA supported by this system?  {torch.cuda.is_available()}\")\n",
    "print(f\"CUDA version: {torch.version.cuda}\")\n",
    " \n",
    "# Storing ID of current CUDA device\n",
    "cuda_id = torch.cuda.current_device()\n",
    "print(f\"ID of current CUDA device: {torch.cuda.current_device()}\")\n",
    "       \n",
    "print(f\"Name of current CUDA device: {torch.cuda.get_device_name(cuda_id)}\")\n",
    "torch_device = torch.device(\"cuda\")\n",
    "# torch_device = torch.device(\"cpu\")\n",
    "print(torch_device)"
   ]
  },
  {
   "cell_type": "code",
   "execution_count": 4,
   "id": "48cca806-ee52-4f7c-9db4-6dda942b8205",
   "metadata": {},
   "outputs": [],
   "source": [
    "class ReviewDataset(Dataset):\n",
    "    def __init__(self, dataset_fp, tokenize_df=None, mapping_fp=None, rebuild=True):\n",
    "        print(\"Reading data...\")\n",
    "        data_raw_df = pd.read_csv(dataset_fp, converters={'review_data': literal_eval})\n",
    "        data_raw_df.reset_index()\n",
    "        assert set(data_raw_df.columns) == {'user_id', 'review_data', 'review_count'}\n",
    "\n",
    "        self.data_product_rating_reviews = dict()\n",
    "        self.product_mapping = dict()\n",
    "        self.products = set()\n",
    "\n",
    "        # Maps strings to index\n",
    "        self.encoding_mapping = dict()\n",
    "        self.encoding_vectors = list()\n",
    "\n",
    "        print(\"Loading fasttext...\")\n",
    "        self.fmodel = fasttext.load_model('cc.en.300.bin')\n",
    "        print(\"Dimension vectors: \" + str(self.fmodel.get_dimension()))\n",
    "        \n",
    "        self.encoding_vectors.append([0] * self.fmodel.get_dimension())\n",
    "        # Grab information\n",
    "        print(\"Tokenizing data...\")\n",
    "        if rebuild is False and tokenize_df is not None and os.path.exists(tokenize_df):\n",
    "            print(\"Attempting to load from filepath...\")\n",
    "            self.data_tokenized_df = pd.read_csv(tokenize_df, converters={'review_tokens': literal_eval, 'review_numtokens': literal_eval, 'review_count': literal_eval})\n",
    "            if mapping_fp is not None and os.path.exists(mapping_fp):\n",
    "                print(\"Loading json into dictionary...\")\n",
    "                with open(mapping_fp, 'r', encoding=\"utf_8\") as fp:\n",
    "                    self.product_mapping = json.load(fp)\n",
    "            else:\n",
    "                self.data_tokenized_df.progress_apply(self._finduniqueprod, axis=1)\n",
    "        else:\n",
    "            self.data_tokenized_df = data_raw_df.apply(self._tokenize, axis=1)\n",
    "\n",
    "            # Product list. Will use embedding to represent the product list.\n",
    "        product_list = sorted(list(self.products))\n",
    "        for product_idx in range(len(product_list)):\n",
    "            product_id = product_list[product_idx]\n",
    "            self.product_mapping[product_id] = product_idx\n",
    "\n",
    "    def _finduniqueprod(self, row):\n",
    "        review_data = row[\"review_tokens\"]\n",
    "        for review in review_data:\n",
    "            product_id, product_rating, product_review = review\n",
    "            self.products.add(product_id)\n",
    "        return None\n",
    "        \n",
    "    def _tokenize(self, row):\n",
    "        new_row = pd.Series()\n",
    "        user_id = row[\"user_id\"]\n",
    "        review_data = row[\"review_data\"]\n",
    "        review_count = row[\"review_count\"]\n",
    "               \n",
    "        tokenized_review_data = []\n",
    "        tokenized_review_numtokens = []\n",
    "        for review in review_data:\n",
    "            product_id, product_rating, product_review = review\n",
    "\n",
    "            self.products.add(product_id)\n",
    "            # Collect data on products and their reviews\n",
    "            if product_id not in self.data_product_rating_reviews.keys():\n",
    "                self.data_product_rating_reviews[product_id] = []\n",
    "            self.data_product_rating_reviews[product_id].append((product_rating, product_review))\n",
    "\n",
    "            # Tokenize the data\n",
    "            # Split up the data according to fasttext:\n",
    "            review_tokenized = []\n",
    "            review_strtokenized = fasttext.tokenize(product_review)\n",
    "            if len(review_strtokenized) <= 0:\n",
    "                # Ignore empty reviews.\n",
    "                print(\"Empty review found!\")\n",
    "                print(\">\" + product_review + \"<\")\n",
    "                return\n",
    "            # We limit number of text to 512 values.\n",
    "            text_counter = 0\n",
    "            for text in review_strtokenized:\n",
    "                text_counter += 1\n",
    "                if text_counter > 512:\n",
    "                    break\n",
    "                if text in self.encoding_mapping:\n",
    "                    review_tokenized.append(self.encoding_mapping[text])\n",
    "                else:\n",
    "                    self.encoding_vectors.append(self.fmodel.get_word_vector(text))\n",
    "                    self.encoding_mapping[text] = len(self.encoding_vectors)-1\n",
    "                    review_tokenized.append(self.encoding_mapping[text])\n",
    "                    \n",
    "            new_tuple = (product_id, product_rating, review_tokenized)\n",
    "            tokenized_review_data.append(new_tuple)\n",
    "            tokenized_review_numtokens.append(len(review_tokenized))\n",
    "\n",
    "        new_row[\"user_id\"] = user_id\n",
    "        new_row[\"review_tokens\"] = tokenized_review_data\n",
    "        new_row[\"review_numtokens\"] = tokenized_review_numtokens\n",
    "        new_row[\"review_count\"] = review_count\n",
    "        return new_row\n",
    "\n",
    "    def get_review_count():\n",
    "        review_count = dict()\n",
    "        for product_id in self.data_product_rating_reviews.keys():\n",
    "            review_count[product_id] = len(self.data_product_rating_reviews[product_id])\n",
    "        return review_count\n",
    "        \n",
    "    def __len__(self):\n",
    "        return len(self.data_tokenized_df)\n",
    "\n",
    "    def __getitem__(self, idx):\n",
    "        if isinstance(idx, slice):\n",
    "            stp = idx.step\n",
    "            if stp is None:\n",
    "                stp = 1\n",
    "            return pd.DataFrame([self.__getitem__(i) for i in range(idx.start, idx.stop, stp)])\n",
    "        if isinstance(idx, list):\n",
    "            return pd.DataFrame([self.__getitem__(i) for i in idx])\n",
    "        data_row = self.data_tokenized_df.iloc[idx]\n",
    "        return data_row"
   ]
  },
  {
   "cell_type": "code",
   "execution_count": 5,
   "id": "4e041897-b41e-4c16-bd0b-fec4de1273e2",
   "metadata": {},
   "outputs": [
    {
     "name": "stdout",
     "output_type": "stream",
     "text": [
      "Reading data...\n",
      "Loading fasttext...\n",
      "Dimension vectors: 300\n",
      "Tokenizing data...\n"
     ]
    }
   ],
   "source": [
    "# Need cased as reference to games occurs.\n",
    "\n",
    "all_dataset = ReviewDataset(\"Preprocessing/dataset_operating.csv\", \"fasttext-tokenized_dataset.csv\", \"fasttext-tokenized_mapping.json\", rebuild=True)\n",
    "if not os.path.exists(\"fasttext-tokenized_dataset.csv\"):\n",
    "    all_dataset.data_tokenized_df.to_csv(\"fasttext-tokenized_dataset.csv\", index=False)\n",
    "if not os.path.exists(\"fasttext-tokenized_mapping.json\"):\n",
    "    with open(\"fasttext-tokenized_mapping.json\", 'w', encoding=\"utf_8\") as fp:\n",
    "        json.dump(all_dataset.product_mapping, fp) "
   ]
  },
  {
   "cell_type": "code",
   "execution_count": 6,
   "id": "989149ba-0e06-4d2f-aed1-32cb44664010",
   "metadata": {},
   "outputs": [],
   "source": [
    "def get_collate_fn(pad_index, product_mapping, sample_size=None):\n",
    "    def collate_fn(batch):\n",
    "        # Get the max number of tokens IN THE BATCH\n",
    "        max_batch_tokens = -1\n",
    "        for bat in batch:\n",
    "            token_count = max(bat[\"review_numtokens\"])\n",
    "            max_batch_tokens = max(max_batch_tokens, token_count)\n",
    "        \n",
    "        # Given a batch, we modify it via padding and whatnot and randomly sample.\n",
    "        user_id_list = []\n",
    "        y_product_id_list = []\n",
    "        y_product_rating_list = []\n",
    "\n",
    "        x_product_id_list = [[] for i in range(sample_size-1)]\n",
    "        x_product_rating_list = [[] for i in range(sample_size-1)]\n",
    "        x_product_review_list = [[] for i in range(sample_size-1)]\n",
    "        x_product_numtokens_list = [[] for i in range(sample_size-1)]\n",
    "        \n",
    "        for bat in batch:\n",
    "            # Randomly smaple the sample size if not none\n",
    "            smple, counts = zip(*random.sample(list(zip(bat[\"review_tokens\"], bat[\"review_numtokens\"])), sample_size))\n",
    "            smple = list(smple)\n",
    "\n",
    "            # We have a sample. For the first element we will choose as our target y variable.\n",
    "            user_id_list.append(bat[\"user_id\"])\n",
    "            y_product_id_list.append(product_mapping[smple[0][0]])\n",
    "            y_product_rating_list.append(smple[0][1])\n",
    "\n",
    "            # For the other samples, we need to collect them. We will have a list of lists storing product id, rating, review.\n",
    "            # These store everything for the current sample. Should be same size as the sample_size.\n",
    "\n",
    "            for i in range(1, len(smple)):\n",
    "                review_sample_idx = i-1 # This is the index in x_product-id_list, etc to store the resulting data\n",
    "                \n",
    "                product_id_mapped = product_mapping[smple[i][0]]\n",
    "\n",
    "                product_rating =  smple[i][1]\n",
    "                \n",
    "                token_list = smple[i][2]\n",
    "                if len(token_list) <= 0:\n",
    "                    print(\"ERROR: EMPTY TOKEN LIST!\")\n",
    "\n",
    "                # Padding needs to occur for the batch for one review_sample_idx. For simplicity's sake, we use the entire batch's max token size\n",
    "                # to determine how much to pad.\n",
    "                token_padded_np = np.full(max_batch_tokens, pad_index, dtype=int)\n",
    "                token_padded_np[:counts[i]] = token_list\n",
    "\n",
    "                # We have ids, ratings, and the reviews for the batch. Now we store this (while distinguishing this!)\n",
    "                x_product_id_list[review_sample_idx].append(product_id_mapped)\n",
    "                x_product_rating_list[review_sample_idx].append(product_rating)\n",
    "                x_product_review_list[review_sample_idx].append(token_padded_np)\n",
    "                x_product_numtokens_list[review_sample_idx].append(len(token_list))\n",
    "            \n",
    "        ret_batch = dict()\n",
    "        ret_batch[\"user_ids\"] = user_id_list\n",
    "        ret_batch[\"batch_size\"] = len(y_product_id_list)\n",
    "        ret_batch[\"x_size\"] = sample_size-1\n",
    "        ret_batch[\"y_product_id\"] = np.asarray(y_product_id_list, dtype=int)  # The product id of the product whose rating we want to predict. Expected size: batch_size.\n",
    "        ret_batch[\"y_product_rating\"] = np.asarray(y_product_rating_list, dtype=float) # The rating of the product the person did. Expected size: batch_size.\n",
    "\n",
    "        ret_batch[\"x_product_id\"] = np.asarray(x_product_id_list, dtype=int) # The product ids. Shape is (sample_size-1, batch_size)\n",
    "        ret_batch[\"x_product_rating\"] = np.asarray(x_product_rating_list, dtype=float) # The rating numbers. Shape is (sample_size-1, batch_size)\n",
    "        ret_batch[\"x_product_review\"] = np.asarray(x_product_review_list, dtype=int) # The reviews, padded. Shape is (sample_size-1, batch_size, max_token_length)\n",
    "        ret_batch[\"x_product_numtokens\"] = np.asarray(x_product_numtokens_list, dtype=int)# The original token length. Shape is (sample_size-1, batch_size)\n",
    "        \n",
    "        # batch = {\"ids\": batch_ids, \"length\": batch_length, \"label\": batch_label}\n",
    "        return ret_batch\n",
    "    return collate_fn"
   ]
  },
  {
   "cell_type": "code",
   "execution_count": 11,
   "id": "e8159254-0cf0-42d0-a2f7-4c7ae3d37740",
   "metadata": {},
   "outputs": [
    {
     "name": "stdout",
     "output_type": "stream",
     "text": [
      "+---------------------------+------------+\n",
      "|          Modules          | Parameters |\n",
      "+---------------------------+------------+\n",
      "|     lstm.weight_ih_l0     |   360000   |\n",
      "|     lstm.weight_hh_l0     |   360000   |\n",
      "|      lstm.bias_ih_l0      |    1200    |\n",
      "|      lstm.bias_hh_l0      |    1200    |\n",
      "| lstm.weight_ih_l0_reverse |   360000   |\n",
      "| lstm.weight_hh_l0_reverse |   360000   |\n",
      "|  lstm.bias_ih_l0_reverse  |    1200    |\n",
      "|  lstm.bias_hh_l0_reverse  |    1200    |\n",
      "|     lstm.weight_ih_l1     |   720000   |\n",
      "|     lstm.weight_hh_l1     |   360000   |\n",
      "|      lstm.bias_ih_l1      |    1200    |\n",
      "|      lstm.bias_hh_l1      |    1200    |\n",
      "| lstm.weight_ih_l1_reverse |   720000   |\n",
      "| lstm.weight_hh_l1_reverse |   360000   |\n",
      "|  lstm.bias_ih_l1_reverse  |    1200    |\n",
      "|  lstm.bias_hh_l1_reverse  |    1200    |\n",
      "|  product_embedding.weight |  3477600   |\n",
      "|   review_rep_fc1.weight   |   160200   |\n",
      "|    review_rep_fc1.bias    |    200     |\n",
      "|   review_rep_fc2.weight   |   40000    |\n",
      "|    review_rep_fc2.bias    |    200     |\n",
      "|   all_review_fc1.weight   |   600000   |\n",
      "|    all_review_fc1.bias    |    500     |\n",
      "|   all_review_fc2.weight   |   250000   |\n",
      "|    all_review_fc2.bias    |    500     |\n",
      "|      output_fc.weight     |    500     |\n",
      "|       output_fc.bias      |     1      |\n",
      "+---------------------------+------------+\n",
      "Total Trainable Params: 8139301\n"
     ]
    },
    {
     "data": {
      "text/plain": [
       "8139301"
      ]
     },
     "execution_count": 11,
     "metadata": {},
     "output_type": "execute_result"
    }
   ],
   "source": [
    "seed = 42\n",
    "random.seed(seed)\n",
    "np.random.seed(seed)\n",
    "torch.manual_seed(seed)\n",
    "torch.cuda.manual_seed(seed)\n",
    "torch.backends.cudnn.deterministic = True\n",
    "    \n",
    "class ReviewNetwork(torch.nn.Module):\n",
    "    def __init__(self, product_count, torch_device, embed_vocab, dropout=0.5, lstm_hidden=300, lstm_layers=2, review_hiddensize=200, allreview_hiddensize=500, word_embed_size=300, prod_embed_size=200, review_context_size=5, tune=False):\n",
    "        super().__init__()\n",
    "        # Setup vocab embed:\n",
    "        self.torch_device = torch_device\n",
    "        weight = torch.FloatTensor(np.array(embed_vocab)).to(self.torch_device)\n",
    "        self.vocab_embedding = torch.nn.Embedding.from_pretrained(weight, freeze=True) # We do not update vocabulary.\n",
    "        \n",
    "        # One LSTM, one embedding layer. Applied onto every one. To generate the hidden outputs.\n",
    "        self.lstm = torch.nn.LSTM(\n",
    "            word_embed_size,\n",
    "            lstm_hidden,\n",
    "            lstm_layers,\n",
    "            bidirectional=True,\n",
    "            batch_first=True\n",
    "        )            \n",
    "\n",
    "        self.product_embedding = torch.nn.Embedding(num_embeddings=product_count, embedding_dim=prod_embed_size) # Freeze is false, we want to eventaully learn product embeds.\n",
    "\n",
    "        self.review_context_size = review_context_size\n",
    "\n",
    "        # Total size for one review: Transformer Output + Product Embed Size + Rating. Intent is to train representation of Review with Product with Rating.\n",
    "        lstm_embed_concat_size = lstm_hidden*2 + prod_embed_size + 1 \n",
    "        self.review_rep_fc1 = torch.nn.Linear(in_features=lstm_embed_concat_size, out_features=review_hiddensize)\n",
    "        self.review_rep_fc2 = torch.nn.Linear(in_features=review_hiddensize, out_features=review_hiddensize)\n",
    "\n",
    "        # All Five combined dim size plus embed of targt product\n",
    "        input_total_size = self.review_context_size * review_hiddensize + prod_embed_size\n",
    "\n",
    "        # Idea: Learn representation of five reviews together.\n",
    "        self.all_review_fc1 = torch.nn.Linear(in_features=input_total_size, out_features=allreview_hiddensize)\n",
    "        self.all_review_fc2 = torch.nn.Linear(in_features=allreview_hiddensize, out_features=allreview_hiddensize)\n",
    "\n",
    "        # Final output(regression)\n",
    "        self.output_fc = torch.nn.Linear(in_features=allreview_hiddensize, out_features=1)\n",
    "        \n",
    "        self.relu = torch.nn.ReLU()\n",
    "        self.dropout = torch.nn.Dropout(p=dropout)\n",
    "        \n",
    "    def forward(self, batch):\n",
    "        # Batch is already constructed for inputs.\n",
    "        # Verify that batch's input data is correct.\n",
    "        batch_size = batch[\"batch_size\"]\n",
    "        y_product_ids = torch.Tensor(batch['y_product_id']).to(torch.int32).to(self.torch_device)\n",
    "        y_product_ids = y_product_ids.reshape(y_product_ids.shape[0], 1)\n",
    "        y_product_embedding = self.product_embedding(y_product_ids).squeeze()\n",
    "\n",
    "        if batch_size == 1:\n",
    "            y_product_embedding = torch.unsqueeze(y_product_embedding, 0)\n",
    "\n",
    "        # print(\"Y product embedding\", y_product_embedding.shape)\n",
    "        \n",
    "        module_outputs_list = []\n",
    "        # Loop through each review\n",
    "        for review_idx in range(self.review_context_size):\n",
    "            x_product_ids = torch.Tensor(batch['x_product_id'][review_idx]).to(torch.int32).to(self.torch_device)\n",
    "            x_product_ids = x_product_ids.reshape(x_product_ids.shape[0], 1)\n",
    "            x_product_ratings = torch.Tensor(batch['x_product_rating'][review_idx]).to(torch.float32).to(self.torch_device)\n",
    "            x_product_ratings = x_product_ratings.reshape(x_product_ratings.shape[0], 1)\n",
    "            x_product_reviews = torch.Tensor(batch['x_product_review'][review_idx]).to(torch.int32).to(self.torch_device)\n",
    "            x_review_embedding = self.vocab_embedding(x_product_reviews).to(self.torch_device)\n",
    "\n",
    "            # x_product_numtokens = torch.Tensor(batch['x_product_numtokens'][review_idx]).to(torch.int32).to(self.torch_device) \n",
    "            # pad tokens wants num tokens on cpu not gpu\n",
    "            x_product_numtokens = torch.Tensor(batch['x_product_numtokens'][review_idx]).to(torch.int32)\n",
    "\n",
    "            # Pack the reviews\n",
    "            try:\n",
    "                x_product_reviews_packed = torch.nn.utils.rnn.pack_padded_sequence(x_review_embedding, x_product_numtokens, batch_first=True, enforce_sorted=False)\n",
    "            except:\n",
    "                print(batch)\n",
    "                print(\"Product reviews\", x_product_reviews)\n",
    "                print(\"Embedded result\", x_review_embedding)\n",
    "                print(\"Number of tokens\", x_product_numtokens)\n",
    "\n",
    "            # Apply embeddings to batch of product ids\n",
    "            x_product_id_embedded = self.product_embedding(x_product_ids).squeeze().to(self.torch_device)\n",
    "            if batch_size == 1:\n",
    "                x_product_id_embedded = torch.unsqueeze(x_product_id_embedded, 0)\n",
    "\n",
    "            # Apply LSTM to batch of reviews\n",
    "            out, (hidden, cell) = self.lstm(x_product_reviews_packed)\n",
    "            lstm_output = torch.cat([hidden[-1], hidden[-2]], dim=-1) # bidirectionality\n",
    "\n",
    "            # print(\"X review embedding\", x_review_embedding.shape)\n",
    "            # print(\"X product id embedding\", x_product_id_embedded.shape)\n",
    "            # print(\"LSTM output shape\", lstm_output.shape)\n",
    "            \n",
    "            # Concat everything together!\n",
    "            review_module_input = torch.concat([x_product_id_embedded, lstm_output, x_product_ratings], dim=1)\n",
    "            # Feed into two NNs.\n",
    "            fc1_out = self.review_rep_fc1(torch.relu(review_module_input))\n",
    "            fc2_out = torch.relu(self.review_rep_fc2(self.dropout(torch.relu(fc1_out))))\n",
    "            module_outputs_list.append(fc2_out)\n",
    "\n",
    "        # We now concat the module outputs into one mega-layer.        \n",
    "        module_outputs_list.append(y_product_embedding)\n",
    "        module_outputs = torch.concat(module_outputs_list, dim=1)\n",
    "\n",
    "        # Next: Send the data to two more FC layers\n",
    "        fc1_out = self.all_review_fc1(module_outputs)\n",
    "        fc2_out = self.all_review_fc2(self.dropout(torch.relu(fc1_out)))\n",
    "\n",
    "        # Send to single linear output.\n",
    "        output = self.output_fc(torch.relu(fc2_out))\n",
    "        return output\n",
    "# 4 gb of gpu memory needed\n",
    "model = ReviewNetwork(product_count=len(all_dataset.product_mapping.keys()), embed_vocab=all_dataset.encoding_vectors, torch_device=torch_device).to(torch_device)\n",
    "loss_func = torch.nn.MSELoss().to(torch_device)\n",
    "count_parameters(model)"
   ]
  },
  {
   "cell_type": "code",
   "execution_count": 14,
   "id": "ee050a5d-d8ba-4320-aa96-38e43f584186",
   "metadata": {},
   "outputs": [
    {
     "name": "stdout",
     "output_type": "stream",
     "text": [
      "\n",
      "Epoch 0\n"
     ]
    },
    {
     "name": "stderr",
     "output_type": "stream",
     "text": [
      "Train Loss 2.149660: 100%|███████████████████████████████████████████████████████████| 983/983 [05:20<00:00,  3.07it/s]\n"
     ]
    },
    {
     "name": "stdout",
     "output_type": "stream",
     "text": [
      "Train MSE: tensor(1.5174)\n",
      "Train R2: tensor(-0.0872)\n"
     ]
    },
    {
     "name": "stderr",
     "output_type": "stream",
     "text": [
      "100%|████████████████████████████████████████████████████████████████████████████████| 874/874 [00:47<00:00, 18.43it/s]\n"
     ]
    },
    {
     "name": "stdout",
     "output_type": "stream",
     "text": [
      "Test MSE: tensor(1.5745)\n",
      "Test R2: tensor(-0.1026)\n",
      "\n",
      "Epoch 1\n"
     ]
    },
    {
     "name": "stderr",
     "output_type": "stream",
     "text": [
      "Train Loss 1.013358: 100%|███████████████████████████████████████████████████████████| 983/983 [05:36<00:00,  2.92it/s]\n"
     ]
    },
    {
     "name": "stdout",
     "output_type": "stream",
     "text": [
      "Train MSE: tensor(1.3382)\n",
      "Train R2: tensor(0.0409)\n"
     ]
    },
    {
     "name": "stderr",
     "output_type": "stream",
     "text": [
      "100%|████████████████████████████████████████████████████████████████████████████████| 874/874 [00:46<00:00, 18.68it/s]\n"
     ]
    },
    {
     "name": "stdout",
     "output_type": "stream",
     "text": [
      "Test MSE: tensor(2.2235)\n",
      "Test R2: tensor(-0.6108)\n",
      "\n",
      "Epoch 2\n"
     ]
    },
    {
     "name": "stderr",
     "output_type": "stream",
     "text": [
      "Train Loss 1.637905: 100%|███████████████████████████████████████████████████████████| 983/983 [05:16<00:00,  3.10it/s]\n"
     ]
    },
    {
     "name": "stdout",
     "output_type": "stream",
     "text": [
      "Train MSE: tensor(1.3085)\n",
      "Train R2: tensor(0.0572)\n"
     ]
    },
    {
     "name": "stderr",
     "output_type": "stream",
     "text": [
      "100%|████████████████████████████████████████████████████████████████████████████████| 874/874 [00:46<00:00, 18.78it/s]\n"
     ]
    },
    {
     "name": "stdout",
     "output_type": "stream",
     "text": [
      "Test MSE: tensor(1.7473)\n",
      "Test R2: tensor(-0.2754)\n",
      "\n",
      "Epoch 3\n"
     ]
    },
    {
     "name": "stderr",
     "output_type": "stream",
     "text": [
      "Train Loss 0.865491: 100%|███████████████████████████████████████████████████████████| 983/983 [04:58<00:00,  3.29it/s]\n"
     ]
    },
    {
     "name": "stdout",
     "output_type": "stream",
     "text": [
      "Train MSE: tensor(1.2738)\n",
      "Train R2: tensor(0.0860)\n"
     ]
    },
    {
     "name": "stderr",
     "output_type": "stream",
     "text": [
      "100%|████████████████████████████████████████████████████████████████████████████████| 874/874 [00:46<00:00, 18.98it/s]\n"
     ]
    },
    {
     "name": "stdout",
     "output_type": "stream",
     "text": [
      "Test MSE: tensor(1.5316)\n",
      "Test R2: tensor(-0.1470)\n",
      "\n",
      "Epoch 4\n"
     ]
    },
    {
     "name": "stderr",
     "output_type": "stream",
     "text": [
      "Train Loss 1.244262: 100%|███████████████████████████████████████████████████████████| 983/983 [04:53<00:00,  3.35it/s]\n"
     ]
    },
    {
     "name": "stdout",
     "output_type": "stream",
     "text": [
      "Train MSE: tensor(1.2304)\n",
      "Train R2: tensor(0.1140)\n"
     ]
    },
    {
     "name": "stderr",
     "output_type": "stream",
     "text": [
      "100%|████████████████████████████████████████████████████████████████████████████████| 874/874 [00:45<00:00, 19.27it/s]\n"
     ]
    },
    {
     "name": "stdout",
     "output_type": "stream",
     "text": [
      "Test MSE: tensor(2.4719)\n",
      "Test R2: tensor(-0.8139)\n",
      "\n",
      "Epoch 5\n"
     ]
    },
    {
     "name": "stderr",
     "output_type": "stream",
     "text": [
      "Train Loss 2.077508: 100%|███████████████████████████████████████████████████████████| 983/983 [04:48<00:00,  3.40it/s]\n"
     ]
    },
    {
     "name": "stdout",
     "output_type": "stream",
     "text": [
      "Train MSE: tensor(1.2266)\n",
      "Train R2: tensor(0.1238)\n"
     ]
    },
    {
     "name": "stderr",
     "output_type": "stream",
     "text": [
      "100%|████████████████████████████████████████████████████████████████████████████████| 874/874 [00:44<00:00, 19.50it/s]\n"
     ]
    },
    {
     "name": "stdout",
     "output_type": "stream",
     "text": [
      "Test MSE: tensor(2.0955)\n",
      "Test R2: tensor(-0.5506)\n",
      "\n",
      "Epoch 6\n"
     ]
    },
    {
     "name": "stderr",
     "output_type": "stream",
     "text": [
      "Train Loss 0.723095: 100%|███████████████████████████████████████████████████████████| 983/983 [04:47<00:00,  3.42it/s]\n"
     ]
    },
    {
     "name": "stdout",
     "output_type": "stream",
     "text": [
      "Train MSE: tensor(1.2061)\n",
      "Train R2: tensor(0.1381)\n"
     ]
    },
    {
     "name": "stderr",
     "output_type": "stream",
     "text": [
      "100%|████████████████████████████████████████████████████████████████████████████████| 874/874 [00:44<00:00, 19.55it/s]\n"
     ]
    },
    {
     "name": "stdout",
     "output_type": "stream",
     "text": [
      "Test MSE: tensor(2.0825)\n",
      "Test R2: tensor(-0.5126)\n",
      "\n",
      "Epoch 7\n"
     ]
    },
    {
     "name": "stderr",
     "output_type": "stream",
     "text": [
      "Train Loss 1.595535: 100%|███████████████████████████████████████████████████████████| 983/983 [04:47<00:00,  3.41it/s]\n"
     ]
    },
    {
     "name": "stdout",
     "output_type": "stream",
     "text": [
      "Train MSE: tensor(1.1572)\n",
      "Train R2: tensor(0.1555)\n"
     ]
    },
    {
     "name": "stderr",
     "output_type": "stream",
     "text": [
      "100%|████████████████████████████████████████████████████████████████████████████████| 874/874 [00:44<00:00, 19.60it/s]\n"
     ]
    },
    {
     "name": "stdout",
     "output_type": "stream",
     "text": [
      "Test MSE: tensor(1.7418)\n",
      "Test R2: tensor(-0.2795)\n",
      "\n",
      "Epoch 8\n"
     ]
    },
    {
     "name": "stderr",
     "output_type": "stream",
     "text": [
      "Train Loss 1.755403: 100%|███████████████████████████████████████████████████████████| 983/983 [04:47<00:00,  3.42it/s]\n"
     ]
    },
    {
     "name": "stdout",
     "output_type": "stream",
     "text": [
      "Train MSE: tensor(1.1728)\n",
      "Train R2: tensor(0.1592)\n"
     ]
    },
    {
     "name": "stderr",
     "output_type": "stream",
     "text": [
      "100%|████████████████████████████████████████████████████████████████████████████████| 874/874 [00:44<00:00, 19.52it/s]\n"
     ]
    },
    {
     "name": "stdout",
     "output_type": "stream",
     "text": [
      "Test MSE: tensor(2.1420)\n",
      "Test R2: tensor(-0.5385)\n",
      "\n",
      "Epoch 9\n"
     ]
    },
    {
     "name": "stderr",
     "output_type": "stream",
     "text": [
      "Train Loss 0.739849: 100%|███████████████████████████████████████████████████████████| 983/983 [04:47<00:00,  3.42it/s]\n"
     ]
    },
    {
     "name": "stdout",
     "output_type": "stream",
     "text": [
      "Train MSE: tensor(1.1583)\n",
      "Train R2: tensor(0.1700)\n"
     ]
    },
    {
     "name": "stderr",
     "output_type": "stream",
     "text": [
      "100%|████████████████████████████████████████████████████████████████████████████████| 874/874 [00:44<00:00, 19.44it/s]\n"
     ]
    },
    {
     "name": "stdout",
     "output_type": "stream",
     "text": [
      "Test MSE: tensor(1.9745)\n",
      "Test R2: tensor(-0.3838)\n",
      "\n",
      "Epoch 10\n"
     ]
    },
    {
     "name": "stderr",
     "output_type": "stream",
     "text": [
      "Train Loss 1.242245: 100%|███████████████████████████████████████████████████████████| 983/983 [04:47<00:00,  3.42it/s]\n"
     ]
    },
    {
     "name": "stdout",
     "output_type": "stream",
     "text": [
      "Train MSE: tensor(1.1572)\n",
      "Train R2: tensor(0.1751)\n"
     ]
    },
    {
     "name": "stderr",
     "output_type": "stream",
     "text": [
      "100%|████████████████████████████████████████████████████████████████████████████████| 874/874 [00:44<00:00, 19.44it/s]\n"
     ]
    },
    {
     "name": "stdout",
     "output_type": "stream",
     "text": [
      "Test MSE: tensor(1.8684)\n",
      "Test R2: tensor(-0.3601)\n",
      "\n",
      "Epoch 11\n"
     ]
    },
    {
     "name": "stderr",
     "output_type": "stream",
     "text": [
      "Train Loss 0.978890: 100%|███████████████████████████████████████████████████████████| 983/983 [04:47<00:00,  3.42it/s]\n"
     ]
    },
    {
     "name": "stdout",
     "output_type": "stream",
     "text": [
      "Train MSE: tensor(1.1239)\n",
      "Train R2: tensor(0.1915)\n"
     ]
    },
    {
     "name": "stderr",
     "output_type": "stream",
     "text": [
      "100%|████████████████████████████████████████████████████████████████████████████████| 874/874 [00:44<00:00, 19.47it/s]\n"
     ]
    },
    {
     "name": "stdout",
     "output_type": "stream",
     "text": [
      "Test MSE: tensor(2.3657)\n",
      "Test R2: tensor(-0.8419)\n",
      "\n",
      "Epoch 12\n"
     ]
    },
    {
     "name": "stderr",
     "output_type": "stream",
     "text": [
      "Train Loss 1.045472: 100%|███████████████████████████████████████████████████████████| 983/983 [04:47<00:00,  3.42it/s]\n"
     ]
    },
    {
     "name": "stdout",
     "output_type": "stream",
     "text": [
      "Train MSE: tensor(1.1183)\n",
      "Train R2: tensor(0.2001)\n"
     ]
    },
    {
     "name": "stderr",
     "output_type": "stream",
     "text": [
      "100%|████████████████████████████████████████████████████████████████████████████████| 874/874 [00:44<00:00, 19.50it/s]\n"
     ]
    },
    {
     "name": "stdout",
     "output_type": "stream",
     "text": [
      "Test MSE: tensor(1.8765)\n",
      "Test R2: tensor(-0.3274)\n",
      "\n",
      "Epoch 13\n"
     ]
    },
    {
     "name": "stderr",
     "output_type": "stream",
     "text": [
      "Train Loss 0.851694: 100%|███████████████████████████████████████████████████████████| 983/983 [04:47<00:00,  3.41it/s]\n"
     ]
    },
    {
     "name": "stdout",
     "output_type": "stream",
     "text": [
      "Train MSE: tensor(1.1020)\n",
      "Train R2: tensor(0.2059)\n"
     ]
    },
    {
     "name": "stderr",
     "output_type": "stream",
     "text": [
      "100%|████████████████████████████████████████████████████████████████████████████████| 874/874 [00:45<00:00, 19.34it/s]\n"
     ]
    },
    {
     "name": "stdout",
     "output_type": "stream",
     "text": [
      "Test MSE: tensor(1.6712)\n",
      "Test R2: tensor(-0.1531)\n",
      "\n",
      "Epoch 14\n"
     ]
    },
    {
     "name": "stderr",
     "output_type": "stream",
     "text": [
      "Train Loss 1.570523: 100%|███████████████████████████████████████████████████████████| 983/983 [04:46<00:00,  3.43it/s]\n"
     ]
    },
    {
     "name": "stdout",
     "output_type": "stream",
     "text": [
      "Train MSE: tensor(1.1061)\n",
      "Train R2: tensor(0.1993)\n"
     ]
    },
    {
     "name": "stderr",
     "output_type": "stream",
     "text": [
      "100%|████████████████████████████████████████████████████████████████████████████████| 874/874 [00:44<00:00, 19.58it/s]\n"
     ]
    },
    {
     "name": "stdout",
     "output_type": "stream",
     "text": [
      "Test MSE: tensor(1.9186)\n",
      "Test R2: tensor(-0.3746)\n",
      "\n",
      "Epoch 15\n"
     ]
    },
    {
     "name": "stderr",
     "output_type": "stream",
     "text": [
      "Train Loss 0.595975: 100%|███████████████████████████████████████████████████████████| 983/983 [04:46<00:00,  3.43it/s]\n"
     ]
    },
    {
     "name": "stdout",
     "output_type": "stream",
     "text": [
      "Train MSE: tensor(1.1004)\n",
      "Train R2: tensor(0.2198)\n"
     ]
    },
    {
     "name": "stderr",
     "output_type": "stream",
     "text": [
      "100%|████████████████████████████████████████████████████████████████████████████████| 874/874 [00:44<00:00, 19.52it/s]\n"
     ]
    },
    {
     "name": "stdout",
     "output_type": "stream",
     "text": [
      "Test MSE: tensor(1.5930)\n",
      "Test R2: tensor(-0.1438)\n",
      "\n",
      "Epoch 16\n"
     ]
    },
    {
     "name": "stderr",
     "output_type": "stream",
     "text": [
      "Train Loss 1.176939: 100%|███████████████████████████████████████████████████████████| 983/983 [04:46<00:00,  3.43it/s]\n"
     ]
    },
    {
     "name": "stdout",
     "output_type": "stream",
     "text": [
      "Train MSE: tensor(1.1065)\n",
      "Train R2: tensor(0.2153)\n"
     ]
    },
    {
     "name": "stderr",
     "output_type": "stream",
     "text": [
      "100%|████████████████████████████████████████████████████████████████████████████████| 874/874 [00:44<00:00, 19.42it/s]\n"
     ]
    },
    {
     "name": "stdout",
     "output_type": "stream",
     "text": [
      "Test MSE: tensor(1.8323)\n",
      "Test R2: tensor(-0.2868)\n",
      "\n",
      "Epoch 17\n"
     ]
    },
    {
     "name": "stderr",
     "output_type": "stream",
     "text": [
      "Train Loss 0.583962: 100%|███████████████████████████████████████████████████████████| 983/983 [04:46<00:00,  3.44it/s]\n"
     ]
    },
    {
     "name": "stdout",
     "output_type": "stream",
     "text": [
      "Train MSE: tensor(1.0610)\n",
      "Train R2: tensor(0.2263)\n"
     ]
    },
    {
     "name": "stderr",
     "output_type": "stream",
     "text": [
      "100%|████████████████████████████████████████████████████████████████████████████████| 874/874 [00:45<00:00, 19.39it/s]\n"
     ]
    },
    {
     "name": "stdout",
     "output_type": "stream",
     "text": [
      "Test MSE: tensor(1.8357)\n",
      "Test R2: tensor(-0.3155)\n",
      "\n",
      "Epoch 18\n"
     ]
    },
    {
     "name": "stderr",
     "output_type": "stream",
     "text": [
      "Train Loss 0.949460: 100%|███████████████████████████████████████████████████████████| 983/983 [04:46<00:00,  3.44it/s]\n"
     ]
    },
    {
     "name": "stdout",
     "output_type": "stream",
     "text": [
      "Train MSE: tensor(1.0523)\n",
      "Train R2: tensor(0.2370)\n"
     ]
    },
    {
     "name": "stderr",
     "output_type": "stream",
     "text": [
      "100%|████████████████████████████████████████████████████████████████████████████████| 874/874 [00:44<00:00, 19.56it/s]\n"
     ]
    },
    {
     "name": "stdout",
     "output_type": "stream",
     "text": [
      "Test MSE: tensor(1.8582)\n",
      "Test R2: tensor(-0.3103)\n",
      "\n",
      "Epoch 19\n"
     ]
    },
    {
     "name": "stderr",
     "output_type": "stream",
     "text": [
      "Train Loss 0.669737: 100%|███████████████████████████████████████████████████████████| 983/983 [04:46<00:00,  3.43it/s]\n"
     ]
    },
    {
     "name": "stdout",
     "output_type": "stream",
     "text": [
      "Train MSE: tensor(1.0509)\n",
      "Train R2: tensor(0.2387)\n"
     ]
    },
    {
     "name": "stderr",
     "output_type": "stream",
     "text": [
      "100%|████████████████████████████████████████████████████████████████████████████████| 874/874 [00:45<00:00, 19.21it/s]\n"
     ]
    },
    {
     "name": "stdout",
     "output_type": "stream",
     "text": [
      "Test MSE: tensor(1.7278)\n",
      "Test R2: tensor(-0.2542)\n",
      "\n",
      "Epoch 20\n"
     ]
    },
    {
     "name": "stderr",
     "output_type": "stream",
     "text": [
      "Train Loss 1.325281: 100%|███████████████████████████████████████████████████████████| 983/983 [05:30<00:00,  2.97it/s]\n"
     ]
    },
    {
     "name": "stdout",
     "output_type": "stream",
     "text": [
      "Train MSE: tensor(1.0552)\n",
      "Train R2: tensor(0.2428)\n"
     ]
    },
    {
     "name": "stderr",
     "output_type": "stream",
     "text": [
      "100%|████████████████████████████████████████████████████████████████████████████████| 874/874 [00:51<00:00, 16.94it/s]\n"
     ]
    },
    {
     "name": "stdout",
     "output_type": "stream",
     "text": [
      "Test MSE: tensor(1.7056)\n",
      "Test R2: tensor(-0.2252)\n",
      "\n",
      "Epoch 21\n"
     ]
    },
    {
     "name": "stderr",
     "output_type": "stream",
     "text": [
      "Train Loss 0.671511: 100%|███████████████████████████████████████████████████████████| 983/983 [05:30<00:00,  2.98it/s]\n"
     ]
    },
    {
     "name": "stdout",
     "output_type": "stream",
     "text": [
      "Train MSE: tensor(1.0633)\n",
      "Train R2: tensor(0.2435)\n"
     ]
    },
    {
     "name": "stderr",
     "output_type": "stream",
     "text": [
      "100%|████████████████████████████████████████████████████████████████████████████████| 874/874 [00:51<00:00, 17.11it/s]\n"
     ]
    },
    {
     "name": "stdout",
     "output_type": "stream",
     "text": [
      "Test MSE: tensor(1.8314)\n",
      "Test R2: tensor(-0.3158)\n",
      "\n",
      "Epoch 22\n"
     ]
    },
    {
     "name": "stderr",
     "output_type": "stream",
     "text": [
      "Train Loss 0.619788: 100%|███████████████████████████████████████████████████████████| 983/983 [05:30<00:00,  2.97it/s]\n"
     ]
    },
    {
     "name": "stdout",
     "output_type": "stream",
     "text": [
      "Train MSE: tensor(1.0533)\n",
      "Train R2: tensor(0.2512)\n"
     ]
    },
    {
     "name": "stderr",
     "output_type": "stream",
     "text": [
      "100%|████████████████████████████████████████████████████████████████████████████████| 874/874 [00:51<00:00, 17.07it/s]\n"
     ]
    },
    {
     "name": "stdout",
     "output_type": "stream",
     "text": [
      "Test MSE: tensor(1.5520)\n",
      "Test R2: tensor(-0.1009)\n",
      "\n",
      "Epoch 23\n"
     ]
    },
    {
     "name": "stderr",
     "output_type": "stream",
     "text": [
      "Train Loss 1.432147: 100%|███████████████████████████████████████████████████████████| 983/983 [05:30<00:00,  2.98it/s]\n"
     ]
    },
    {
     "name": "stdout",
     "output_type": "stream",
     "text": [
      "Train MSE: tensor(1.0272)\n",
      "Train R2: tensor(0.2588)\n"
     ]
    },
    {
     "name": "stderr",
     "output_type": "stream",
     "text": [
      "100%|████████████████████████████████████████████████████████████████████████████████| 874/874 [00:51<00:00, 17.00it/s]\n"
     ]
    },
    {
     "name": "stdout",
     "output_type": "stream",
     "text": [
      "Test MSE: tensor(1.6637)\n",
      "Test R2: tensor(-0.2107)\n",
      "\n",
      "Epoch 24\n"
     ]
    },
    {
     "name": "stderr",
     "output_type": "stream",
     "text": [
      "Train Loss 0.300968: 100%|███████████████████████████████████████████████████████████| 983/983 [05:30<00:00,  2.97it/s]\n"
     ]
    },
    {
     "name": "stdout",
     "output_type": "stream",
     "text": [
      "Train MSE: tensor(1.0252)\n",
      "Train R2: tensor(0.2620)\n"
     ]
    },
    {
     "name": "stderr",
     "output_type": "stream",
     "text": [
      "100%|████████████████████████████████████████████████████████████████████████████████| 874/874 [00:51<00:00, 17.11it/s]\n"
     ]
    },
    {
     "name": "stdout",
     "output_type": "stream",
     "text": [
      "Test MSE: tensor(1.7066)\n",
      "Test R2: tensor(-0.2495)\n",
      "\n",
      "Epoch 25\n"
     ]
    },
    {
     "name": "stderr",
     "output_type": "stream",
     "text": [
      "Train Loss 0.513922: 100%|███████████████████████████████████████████████████████████| 983/983 [05:30<00:00,  2.97it/s]\n"
     ]
    },
    {
     "name": "stdout",
     "output_type": "stream",
     "text": [
      "Train MSE: tensor(1.0264)\n",
      "Train R2: tensor(0.2613)\n"
     ]
    },
    {
     "name": "stderr",
     "output_type": "stream",
     "text": [
      "100%|████████████████████████████████████████████████████████████████████████████████| 874/874 [00:51<00:00, 17.02it/s]\n"
     ]
    },
    {
     "name": "stdout",
     "output_type": "stream",
     "text": [
      "Test MSE: tensor(1.4925)\n",
      "Test R2: tensor(-0.0718)\n",
      "\n",
      "Epoch 26\n"
     ]
    },
    {
     "name": "stderr",
     "output_type": "stream",
     "text": [
      "Train Loss 0.902289: 100%|███████████████████████████████████████████████████████████| 983/983 [05:31<00:00,  2.96it/s]\n"
     ]
    },
    {
     "name": "stdout",
     "output_type": "stream",
     "text": [
      "Train MSE: tensor(1.0321)\n",
      "Train R2: tensor(0.2590)\n"
     ]
    },
    {
     "name": "stderr",
     "output_type": "stream",
     "text": [
      "100%|████████████████████████████████████████████████████████████████████████████████| 874/874 [00:51<00:00, 17.12it/s]\n"
     ]
    },
    {
     "name": "stdout",
     "output_type": "stream",
     "text": [
      "Test MSE: tensor(1.5251)\n",
      "Test R2: tensor(-0.0964)\n",
      "\n",
      "Epoch 27\n"
     ]
    },
    {
     "name": "stderr",
     "output_type": "stream",
     "text": [
      "Train Loss 0.549915: 100%|███████████████████████████████████████████████████████████| 983/983 [05:30<00:00,  2.98it/s]\n"
     ]
    },
    {
     "name": "stdout",
     "output_type": "stream",
     "text": [
      "Train MSE: tensor(1.0136)\n",
      "Train R2: tensor(0.2699)\n"
     ]
    },
    {
     "name": "stderr",
     "output_type": "stream",
     "text": [
      "100%|████████████████████████████████████████████████████████████████████████████████| 874/874 [00:51<00:00, 17.00it/s]\n"
     ]
    },
    {
     "name": "stdout",
     "output_type": "stream",
     "text": [
      "Test MSE: tensor(1.5073)\n",
      "Test R2: tensor(-0.0890)\n",
      "\n",
      "Epoch 28\n"
     ]
    },
    {
     "name": "stderr",
     "output_type": "stream",
     "text": [
      "Train Loss 1.160944: 100%|███████████████████████████████████████████████████████████| 983/983 [05:29<00:00,  2.98it/s]\n"
     ]
    },
    {
     "name": "stdout",
     "output_type": "stream",
     "text": [
      "Train MSE: tensor(1.0221)\n",
      "Train R2: tensor(0.2702)\n"
     ]
    },
    {
     "name": "stderr",
     "output_type": "stream",
     "text": [
      "100%|████████████████████████████████████████████████████████████████████████████████| 874/874 [00:51<00:00, 16.99it/s]\n"
     ]
    },
    {
     "name": "stdout",
     "output_type": "stream",
     "text": [
      "Test MSE: tensor(1.5044)\n",
      "Test R2: tensor(-0.0985)\n",
      "\n",
      "Epoch 29\n"
     ]
    },
    {
     "name": "stderr",
     "output_type": "stream",
     "text": [
      "Train Loss 0.505294: 100%|███████████████████████████████████████████████████████████| 983/983 [05:30<00:00,  2.97it/s]\n"
     ]
    },
    {
     "name": "stdout",
     "output_type": "stream",
     "text": [
      "Train MSE: tensor(1.0012)\n",
      "Train R2: tensor(0.2760)\n"
     ]
    },
    {
     "name": "stderr",
     "output_type": "stream",
     "text": [
      "100%|████████████████████████████████████████████████████████████████████████████████| 874/874 [00:51<00:00, 16.96it/s]\n"
     ]
    },
    {
     "name": "stdout",
     "output_type": "stream",
     "text": [
      "Test MSE: tensor(1.5221)\n",
      "Test R2: tensor(-0.0768)\n",
      "\n",
      "Epoch 30\n"
     ]
    },
    {
     "name": "stderr",
     "output_type": "stream",
     "text": [
      "Train Loss 0.436549: 100%|███████████████████████████████████████████████████████████| 983/983 [05:30<00:00,  2.98it/s]\n"
     ]
    },
    {
     "name": "stdout",
     "output_type": "stream",
     "text": [
      "Train MSE: tensor(1.0192)\n",
      "Train R2: tensor(0.2675)\n"
     ]
    },
    {
     "name": "stderr",
     "output_type": "stream",
     "text": [
      "100%|████████████████████████████████████████████████████████████████████████████████| 874/874 [00:51<00:00, 17.05it/s]\n"
     ]
    },
    {
     "name": "stdout",
     "output_type": "stream",
     "text": [
      "Test MSE: tensor(1.4748)\n",
      "Test R2: tensor(-0.0729)\n",
      "\n",
      "Epoch 31\n"
     ]
    },
    {
     "name": "stderr",
     "output_type": "stream",
     "text": [
      "Train Loss 0.649832: 100%|███████████████████████████████████████████████████████████| 983/983 [05:30<00:00,  2.98it/s]\n"
     ]
    },
    {
     "name": "stdout",
     "output_type": "stream",
     "text": [
      "Train MSE: tensor(0.9990)\n",
      "Train R2: tensor(0.2851)\n"
     ]
    },
    {
     "name": "stderr",
     "output_type": "stream",
     "text": [
      "100%|████████████████████████████████████████████████████████████████████████████████| 874/874 [00:51<00:00, 17.13it/s]\n"
     ]
    },
    {
     "name": "stdout",
     "output_type": "stream",
     "text": [
      "Test MSE: tensor(1.5907)\n",
      "Test R2: tensor(-0.1726)\n",
      "\n",
      "Epoch 32\n"
     ]
    },
    {
     "name": "stderr",
     "output_type": "stream",
     "text": [
      "Train Loss 1.100984: 100%|███████████████████████████████████████████████████████████| 983/983 [05:31<00:00,  2.96it/s]\n"
     ]
    },
    {
     "name": "stdout",
     "output_type": "stream",
     "text": [
      "Train MSE: tensor(0.9876)\n",
      "Train R2: tensor(0.2962)\n"
     ]
    },
    {
     "name": "stderr",
     "output_type": "stream",
     "text": [
      "100%|████████████████████████████████████████████████████████████████████████████████| 874/874 [00:51<00:00, 17.03it/s]\n"
     ]
    },
    {
     "name": "stdout",
     "output_type": "stream",
     "text": [
      "Test MSE: tensor(1.6213)\n",
      "Test R2: tensor(-0.1382)\n",
      "\n",
      "Epoch 33\n"
     ]
    },
    {
     "name": "stderr",
     "output_type": "stream",
     "text": [
      "Train Loss 0.523126: 100%|███████████████████████████████████████████████████████████| 983/983 [05:30<00:00,  2.98it/s]\n"
     ]
    },
    {
     "name": "stdout",
     "output_type": "stream",
     "text": [
      "Train MSE: tensor(0.9970)\n",
      "Train R2: tensor(0.2871)\n"
     ]
    },
    {
     "name": "stderr",
     "output_type": "stream",
     "text": [
      "100%|████████████████████████████████████████████████████████████████████████████████| 874/874 [00:51<00:00, 17.13it/s]\n"
     ]
    },
    {
     "name": "stdout",
     "output_type": "stream",
     "text": [
      "Test MSE: tensor(1.5611)\n",
      "Test R2: tensor(-0.1326)\n",
      "\n",
      "Epoch 34\n"
     ]
    },
    {
     "name": "stderr",
     "output_type": "stream",
     "text": [
      "Train Loss 1.343071: 100%|███████████████████████████████████████████████████████████| 983/983 [05:30<00:00,  2.98it/s]\n"
     ]
    },
    {
     "name": "stdout",
     "output_type": "stream",
     "text": [
      "Train MSE: tensor(0.9866)\n",
      "Train R2: tensor(0.2942)\n"
     ]
    },
    {
     "name": "stderr",
     "output_type": "stream",
     "text": [
      "100%|████████████████████████████████████████████████████████████████████████████████| 874/874 [00:51<00:00, 17.02it/s]\n"
     ]
    },
    {
     "name": "stdout",
     "output_type": "stream",
     "text": [
      "Test MSE: tensor(1.3714)\n",
      "Test R2: tensor(0.0474)\n",
      "\n",
      "Epoch 35\n"
     ]
    },
    {
     "name": "stderr",
     "output_type": "stream",
     "text": [
      "Train Loss 0.567358: 100%|███████████████████████████████████████████████████████████| 983/983 [05:30<00:00,  2.98it/s]\n"
     ]
    },
    {
     "name": "stdout",
     "output_type": "stream",
     "text": [
      "Train MSE: tensor(0.9848)\n",
      "Train R2: tensor(0.2894)\n"
     ]
    },
    {
     "name": "stderr",
     "output_type": "stream",
     "text": [
      "100%|████████████████████████████████████████████████████████████████████████████████| 874/874 [00:51<00:00, 17.06it/s]\n"
     ]
    },
    {
     "name": "stdout",
     "output_type": "stream",
     "text": [
      "Test MSE: tensor(1.4151)\n",
      "Test R2: tensor(-0.0263)\n",
      "\n",
      "Epoch 36\n"
     ]
    },
    {
     "name": "stderr",
     "output_type": "stream",
     "text": [
      "Train Loss 1.480860: 100%|███████████████████████████████████████████████████████████| 983/983 [05:29<00:00,  2.98it/s]\n"
     ]
    },
    {
     "name": "stdout",
     "output_type": "stream",
     "text": [
      "Train MSE: tensor(0.9962)\n",
      "Train R2: tensor(0.2928)\n"
     ]
    },
    {
     "name": "stderr",
     "output_type": "stream",
     "text": [
      "100%|████████████████████████████████████████████████████████████████████████████████| 874/874 [00:51<00:00, 17.10it/s]\n"
     ]
    },
    {
     "name": "stdout",
     "output_type": "stream",
     "text": [
      "Test MSE: tensor(1.5225)\n",
      "Test R2: tensor(-0.1017)\n",
      "\n",
      "Epoch 37\n"
     ]
    },
    {
     "name": "stderr",
     "output_type": "stream",
     "text": [
      "Train Loss 0.481087: 100%|███████████████████████████████████████████████████████████| 983/983 [05:29<00:00,  2.98it/s]\n"
     ]
    },
    {
     "name": "stdout",
     "output_type": "stream",
     "text": [
      "Train MSE: tensor(0.9934)\n",
      "Train R2: tensor(0.2967)\n"
     ]
    },
    {
     "name": "stderr",
     "output_type": "stream",
     "text": [
      "100%|████████████████████████████████████████████████████████████████████████████████| 874/874 [00:49<00:00, 17.77it/s]\n"
     ]
    },
    {
     "name": "stdout",
     "output_type": "stream",
     "text": [
      "Test MSE: tensor(1.5614)\n",
      "Test R2: tensor(-0.1010)\n",
      "\n",
      "Epoch 38\n"
     ]
    },
    {
     "name": "stderr",
     "output_type": "stream",
     "text": [
      "Train Loss 0.599646: 100%|███████████████████████████████████████████████████████████| 983/983 [05:06<00:00,  3.21it/s]\n"
     ]
    },
    {
     "name": "stdout",
     "output_type": "stream",
     "text": [
      "Train MSE: tensor(0.9746)\n",
      "Train R2: tensor(0.3032)\n"
     ]
    },
    {
     "name": "stderr",
     "output_type": "stream",
     "text": [
      "100%|████████████████████████████████████████████████████████████████████████████████| 874/874 [00:48<00:00, 17.94it/s]\n"
     ]
    },
    {
     "name": "stdout",
     "output_type": "stream",
     "text": [
      "Test MSE: tensor(1.4662)\n",
      "Test R2: tensor(-0.0449)\n",
      "\n",
      "Epoch 39\n"
     ]
    },
    {
     "name": "stderr",
     "output_type": "stream",
     "text": [
      "Train Loss 1.069149: 100%|███████████████████████████████████████████████████████████| 983/983 [05:13<00:00,  3.14it/s]\n"
     ]
    },
    {
     "name": "stdout",
     "output_type": "stream",
     "text": [
      "Train MSE: tensor(0.9729)\n",
      "Train R2: tensor(0.2998)\n"
     ]
    },
    {
     "name": "stderr",
     "output_type": "stream",
     "text": [
      "100%|████████████████████████████████████████████████████████████████████████████████| 874/874 [00:45<00:00, 19.23it/s]\n"
     ]
    },
    {
     "name": "stdout",
     "output_type": "stream",
     "text": [
      "Test MSE: tensor(1.3720)\n",
      "Test R2: tensor(0.0118)\n",
      "\n",
      "Epoch 40\n"
     ]
    },
    {
     "name": "stderr",
     "output_type": "stream",
     "text": [
      "Train Loss 1.778944: 100%|███████████████████████████████████████████████████████████| 983/983 [05:16<00:00,  3.11it/s]\n"
     ]
    },
    {
     "name": "stdout",
     "output_type": "stream",
     "text": [
      "Train MSE: tensor(0.9633)\n",
      "Train R2: tensor(0.3043)\n"
     ]
    },
    {
     "name": "stderr",
     "output_type": "stream",
     "text": [
      "100%|████████████████████████████████████████████████████████████████████████████████| 874/874 [00:46<00:00, 18.85it/s]\n"
     ]
    },
    {
     "name": "stdout",
     "output_type": "stream",
     "text": [
      "Test MSE: tensor(1.3258)\n",
      "Test R2: tensor(0.0484)\n",
      "\n",
      "Epoch 41\n"
     ]
    },
    {
     "name": "stderr",
     "output_type": "stream",
     "text": [
      "Train Loss 0.494603: 100%|███████████████████████████████████████████████████████████| 983/983 [04:50<00:00,  3.38it/s]\n"
     ]
    },
    {
     "name": "stdout",
     "output_type": "stream",
     "text": [
      "Train MSE: tensor(0.9582)\n",
      "Train R2: tensor(0.3093)\n"
     ]
    },
    {
     "name": "stderr",
     "output_type": "stream",
     "text": [
      "100%|████████████████████████████████████████████████████████████████████████████████| 874/874 [00:45<00:00, 19.36it/s]\n"
     ]
    },
    {
     "name": "stdout",
     "output_type": "stream",
     "text": [
      "Test MSE: tensor(1.3295)\n",
      "Test R2: tensor(0.0232)\n",
      "\n",
      "Epoch 42\n"
     ]
    },
    {
     "name": "stderr",
     "output_type": "stream",
     "text": [
      "Train Loss 1.686582: 100%|███████████████████████████████████████████████████████████| 983/983 [04:53<00:00,  3.35it/s]\n"
     ]
    },
    {
     "name": "stdout",
     "output_type": "stream",
     "text": [
      "Train MSE: tensor(0.9662)\n",
      "Train R2: tensor(0.3043)\n"
     ]
    },
    {
     "name": "stderr",
     "output_type": "stream",
     "text": [
      "100%|████████████████████████████████████████████████████████████████████████████████| 874/874 [00:44<00:00, 19.49it/s]\n"
     ]
    },
    {
     "name": "stdout",
     "output_type": "stream",
     "text": [
      "Test MSE: tensor(1.3564)\n",
      "Test R2: tensor(0.0294)\n",
      "\n",
      "Epoch 43\n"
     ]
    },
    {
     "name": "stderr",
     "output_type": "stream",
     "text": [
      "Train Loss 0.322111: 100%|███████████████████████████████████████████████████████████| 983/983 [04:57<00:00,  3.31it/s]\n"
     ]
    },
    {
     "name": "stdout",
     "output_type": "stream",
     "text": [
      "Train MSE: tensor(0.9847)\n",
      "Train R2: tensor(0.3066)\n"
     ]
    },
    {
     "name": "stderr",
     "output_type": "stream",
     "text": [
      "100%|████████████████████████████████████████████████████████████████████████████████| 874/874 [00:46<00:00, 18.76it/s]\n"
     ]
    },
    {
     "name": "stdout",
     "output_type": "stream",
     "text": [
      "Test MSE: tensor(1.2677)\n",
      "Test R2: tensor(0.1079)\n",
      "\n",
      "Epoch 44\n"
     ]
    },
    {
     "name": "stderr",
     "output_type": "stream",
     "text": [
      "Train Loss 0.271682: 100%|███████████████████████████████████████████████████████████| 983/983 [05:00<00:00,  3.27it/s]\n"
     ]
    },
    {
     "name": "stdout",
     "output_type": "stream",
     "text": [
      "Train MSE: tensor(0.9575)\n",
      "Train R2: tensor(0.3110)\n"
     ]
    },
    {
     "name": "stderr",
     "output_type": "stream",
     "text": [
      "100%|████████████████████████████████████████████████████████████████████████████████| 874/874 [00:47<00:00, 18.48it/s]\n"
     ]
    },
    {
     "name": "stdout",
     "output_type": "stream",
     "text": [
      "Test MSE: tensor(1.2060)\n",
      "Test R2: tensor(0.1320)\n",
      "\n",
      "Epoch 45\n"
     ]
    },
    {
     "name": "stderr",
     "output_type": "stream",
     "text": [
      "Train Loss 0.879064: 100%|███████████████████████████████████████████████████████████| 983/983 [05:01<00:00,  3.26it/s]\n"
     ]
    },
    {
     "name": "stdout",
     "output_type": "stream",
     "text": [
      "Train MSE: tensor(0.9726)\n",
      "Train R2: tensor(0.3152)\n"
     ]
    },
    {
     "name": "stderr",
     "output_type": "stream",
     "text": [
      "100%|████████████████████████████████████████████████████████████████████████████████| 874/874 [00:50<00:00, 17.28it/s]\n"
     ]
    },
    {
     "name": "stdout",
     "output_type": "stream",
     "text": [
      "Test MSE: tensor(1.2467)\n",
      "Test R2: tensor(0.0670)\n",
      "\n",
      "Epoch 46\n"
     ]
    },
    {
     "name": "stderr",
     "output_type": "stream",
     "text": [
      "Train Loss 1.015214: 100%|███████████████████████████████████████████████████████████| 983/983 [04:49<00:00,  3.40it/s]\n"
     ]
    },
    {
     "name": "stdout",
     "output_type": "stream",
     "text": [
      "Train MSE: tensor(0.9592)\n",
      "Train R2: tensor(0.3143)\n"
     ]
    },
    {
     "name": "stderr",
     "output_type": "stream",
     "text": [
      "100%|████████████████████████████████████████████████████████████████████████████████| 874/874 [00:44<00:00, 19.46it/s]\n"
     ]
    },
    {
     "name": "stdout",
     "output_type": "stream",
     "text": [
      "Test MSE: tensor(1.3709)\n",
      "Test R2: tensor(0.0384)\n",
      "\n",
      "Epoch 47\n"
     ]
    },
    {
     "name": "stderr",
     "output_type": "stream",
     "text": [
      "Train Loss 0.572090: 100%|███████████████████████████████████████████████████████████| 983/983 [04:48<00:00,  3.41it/s]\n"
     ]
    },
    {
     "name": "stdout",
     "output_type": "stream",
     "text": [
      "Train MSE: tensor(0.9511)\n",
      "Train R2: tensor(0.3156)\n"
     ]
    },
    {
     "name": "stderr",
     "output_type": "stream",
     "text": [
      "100%|████████████████████████████████████████████████████████████████████████████████| 874/874 [00:44<00:00, 19.56it/s]\n"
     ]
    },
    {
     "name": "stdout",
     "output_type": "stream",
     "text": [
      "Test MSE: tensor(1.3374)\n",
      "Test R2: tensor(0.0421)\n",
      "\n",
      "Epoch 48\n"
     ]
    },
    {
     "name": "stderr",
     "output_type": "stream",
     "text": [
      "Train Loss 0.535101: 100%|███████████████████████████████████████████████████████████| 983/983 [04:56<00:00,  3.32it/s]\n"
     ]
    },
    {
     "name": "stdout",
     "output_type": "stream",
     "text": [
      "Train MSE: tensor(0.9429)\n",
      "Train R2: tensor(0.3206)\n"
     ]
    },
    {
     "name": "stderr",
     "output_type": "stream",
     "text": [
      "100%|████████████████████████████████████████████████████████████████████████████████| 874/874 [00:44<00:00, 19.50it/s]\n"
     ]
    },
    {
     "name": "stdout",
     "output_type": "stream",
     "text": [
      "Test MSE: tensor(1.1927)\n",
      "Test R2: tensor(0.1273)\n",
      "\n",
      "Epoch 49\n"
     ]
    },
    {
     "name": "stderr",
     "output_type": "stream",
     "text": [
      "Train Loss 0.459296: 100%|███████████████████████████████████████████████████████████| 983/983 [04:56<00:00,  3.32it/s]\n"
     ]
    },
    {
     "name": "stdout",
     "output_type": "stream",
     "text": [
      "Train MSE: tensor(0.9381)\n",
      "Train R2: tensor(0.3277)\n"
     ]
    },
    {
     "name": "stderr",
     "output_type": "stream",
     "text": [
      "100%|████████████████████████████████████████████████████████████████████████████████| 874/874 [00:45<00:00, 19.21it/s]"
     ]
    },
    {
     "name": "stdout",
     "output_type": "stream",
     "text": [
      "Test MSE: tensor(1.2827)\n",
      "Test R2: tensor(0.0470)\n"
     ]
    },
    {
     "name": "stderr",
     "output_type": "stream",
     "text": [
      "\n"
     ]
    }
   ],
   "source": [
    "train_dataset, test_dataset = train_test_split(all_dataset, train_size=0.9, test_size=0.1, random_state=seed, shuffle=True)\n",
    "\n",
    "train_data_loader = torch.utils.data.DataLoader(\n",
    "    dataset=train_dataset,\n",
    "    batch_size=32,\n",
    "    collate_fn=get_collate_fn(0, all_dataset.product_mapping, sample_size=6),\n",
    ")\n",
    "\n",
    "test_data_loader = torch.utils.data.DataLoader(\n",
    "    dataset=test_dataset,\n",
    "    batch_size=4,\n",
    "    collate_fn=get_collate_fn(0, all_dataset.product_mapping, sample_size=6),\n",
    ")\n",
    "\n",
    "optimizer = torch.optim.Adam(model.parameters(), lr=1e-3)\n",
    "NUM_EPOCHS = 50\n",
    "all_train_losses = []\n",
    "all_train_R2s = []\n",
    "all_test_losses = []\n",
    "all_test_R2s = []\n",
    "\n",
    "best_test_epoch = 0\n",
    "best_test_loss = 9999\n",
    "best_test_r2 = -9999\n",
    "best_test_batch = None\n",
    "\n",
    "for epoch in range(NUM_EPOCHS):\n",
    "    print()\n",
    "    print(\"Epoch\", epoch)\n",
    "    model.train()\n",
    "    train_loss_list = []\n",
    "    test_loss_list = []\n",
    "    test_r2_list = []\n",
    "    \n",
    "    train_pbar =tqdm(train_data_loader)\n",
    "    list_of_train_predictions = []\n",
    "    list_of_train_actuals = []\n",
    "    for train_batch in train_pbar:\n",
    "        prediction_batch = model.forward(train_batch)\n",
    "        y_product_ratings = torch.Tensor(train_batch['y_product_rating']).to(torch.float32).to(torch_device)\n",
    "        y_product_ratings = y_product_ratings.reshape([y_product_ratings.shape[0], 1])\n",
    "        loss = loss_func(prediction_batch, y_product_ratings) # Also counts as general MSE\n",
    "        train_loss_list.append(loss)\n",
    "        train_pbar.set_description(\"Train Loss %2.6f\" % loss.detach().item())\n",
    "        optimizer.zero_grad()\n",
    "        loss.backward()\n",
    "        optimizer.step()\n",
    "\n",
    "        for i in range(y_product_ratings.shape[0]):\n",
    "            list_of_train_predictions.append(prediction_batch[i].detach().cpu())\n",
    "            list_of_train_actuals.append(y_product_ratings[i].detach().cpu())\n",
    "        \n",
    "    # avg_train_loss = sum(train_loss_list)/len(train_loss_list)\n",
    "    \n",
    "    train_loss = loss_func(torch.tensor(list_of_train_predictions), torch.tensor(list_of_train_actuals)) # Also counts as general MSE\n",
    "    train_R2 = r2_score(torch.tensor(list_of_train_predictions), torch.tensor(list_of_train_actuals))\n",
    "    \n",
    "    print(\"Train MSE:\", train_loss)\n",
    "    print(\"Train R2:\", train_R2)\n",
    "    all_train_losses.append(train_loss)\n",
    "    all_train_R2s.append(train_R2)\n",
    "    \n",
    "    model.eval()\n",
    "\n",
    "    list_of_batches = []\n",
    "    list_of_test_predictions = []\n",
    "    list_of_test_actuals = []\n",
    "    with torch.no_grad():\n",
    "        for test_batch in tqdm(test_data_loader):\n",
    "            test_prediction_batch = model.forward(test_batch)\n",
    "            test_y_product_ratings = torch.Tensor(test_batch['y_product_rating']).to(torch.float32).to(torch_device)\n",
    "            test_y_product_ratings = test_y_product_ratings.reshape([test_y_product_ratings.shape[0], 1])\n",
    "    \n",
    "            list_of_batches.append(test_batch)\n",
    "            \n",
    "            for i in range(test_y_product_ratings.shape[0]):\n",
    "                list_of_test_predictions.append(test_prediction_batch[i].detach().cpu())\n",
    "                list_of_test_actuals.append(test_y_product_ratings[i].detach().cpu())\n",
    "    \n",
    "    test_loss = loss_func(torch.tensor(list_of_test_predictions), torch.tensor(list_of_test_actuals)) # Also counts as general MSE\n",
    "    test_R2 = r2_score(torch.tensor(list_of_test_predictions), torch.tensor(list_of_test_actuals))\n",
    "\n",
    "    print(\"Test MSE:\", test_loss)\n",
    "    print(\"Test R2:\", test_R2)\n",
    "    if test_R2 > best_test_r2:\n",
    "        best_test_epoch = epoch\n",
    "        best_test_loss = test_loss\n",
    "        best_test_r2 = test_R2\n",
    "        best_test_batch = copy.deepcopy(list_of_batches)\n",
    "        torch.save({\n",
    "            'epoch': epoch,\n",
    "            'model_state_dict': model.state_dict(),\n",
    "            'optimizer_state_dict': optimizer.state_dict(),\n",
    "            'mseloss': test_loss,\n",
    "            'batch_data': best_test_batch\n",
    "            }, \"epoch_\" + str(epoch) + \"_mseloss_\" + str(test_loss) + \".pt\")\n",
    "    all_test_losses.append(test_loss)\n",
    "    all_test_R2s.append(test_R2)"
   ]
  },
  {
   "cell_type": "code",
   "execution_count": 22,
   "id": "206a24ea-6cae-4485-9095-babc3153844b",
   "metadata": {},
   "outputs": [],
   "source": [
    "# Plot the graph of MSE over time\n",
    "epoch_range = np.arange(1, 51)\n",
    "train_losses_np = np.array(all_train_losses)\n",
    "train_r2_np = np.array(all_train_R2s)\n",
    "test_losses_np = np.array(all_test_losses)\n",
    "test_r2_np = np.array(all_test_R2s)"
   ]
  },
  {
   "cell_type": "code",
   "execution_count": 33,
   "id": "aea91acb-b20c-44fa-bb0c-73752c89fc5a",
   "metadata": {},
   "outputs": [
    {
     "data": {
      "image/png": "[encoded data removed]",
      "text/plain": [
       "<Figure size 640x480 with 1 Axes>"
      ]
     },
     "metadata": {},
     "output_type": "display_data"
    }
   ],
   "source": [
    "plt.plot(epoch_range, train_losses_np, label='train MSE')\n",
    "plt.plot(epoch_range, test_losses_np, label='val MSE')\n",
    "plt.legend()\n",
    "plt.xlabel(\"Epochs\")\n",
    "plt.ylabel(\"MSE\")\n",
    "plt.title(\"Losses over time\")\n",
    "plt.show()"
   ]
  },
  {
   "cell_type": "code",
   "execution_count": 34,
   "id": "b89f3e39-0567-4493-ba62-391f0f37f4bd",
   "metadata": {},
   "outputs": [
    {
     "data": {
      "image/png": "[encoded data removed]",
      "text/plain": [
       "<Figure size 640x480 with 1 Axes>"
      ]
     },
     "metadata": {},
     "output_type": "display_data"
    }
   ],
   "source": [
    "plt.plot(epoch_range, train_r2_np, label='train R2')\n",
    "plt.plot(epoch_range, test_r2_np, label='val R2')\n",
    "plt.legend()\n",
    "plt.xlabel(\"Epochs\")\n",
    "plt.ylabel(\"R2 Score\")\n",
    "plt.title(\"R2 score over time\")\n",
    "plt.show()"
   ]
  },
  {
   "cell_type": "code",
   "execution_count": 58,
   "id": "e046c0a5-c1bc-4506-99a3-a44ffa316cde",
   "metadata": {
    "scrolled": true
   },
   "outputs": [],
   "source": [
    "def print_batch_details(batch_data, product_mapping):\n",
    "    data_info = []\n",
    "    for minibatch in batch_data:\n",
    "        user_ids = minibatch[\"user_ids\"]\n",
    "        product_ids = minibatch[\"y_product_id\"]\n",
    "        product_ratings = minibatch[\"y_product_rating\"]\n",
    "        product_label = []\n",
    "        for pid in product_ids:\n",
    "            product_label.append(product_mapping[pid])\n",
    "        data_df = pd.DataFrame()\n",
    "        data_df[\"user_id\"] = user_ids\n",
    "        data_df[\"product_id\"] = product_label\n",
    "        data_df[\"rating\"] = product_ratings\n",
    "        data_info.append(data_df)\n",
    "    cc = pd.concat(data_info)\n",
    "    cc.reset_index(drop=True, inplace=True)\n",
    "    return cc"
   ]
  },
  {
   "cell_type": "code",
   "execution_count": 60,
   "id": "861b2492-1cfc-41a5-a8ef-8eb59ff9fffe",
   "metadata": {},
   "outputs": [],
   "source": [
    "assert len(all_dataset.product_mapping.values()) == len(set(all_dataset.product_mapping.values()))\n",
    "inverted_map = dict((v, k) for k, v in all_dataset.product_mapping.items())\n",
    "testbatch_used = print_batch_details(best_test_batch, inverted_map)\n",
    "testbatch_used.to_csv(\"Testbatch.csv\", index=None)"
   ]
  },
  {
   "cell_type": "code",
   "execution_count": 88,
   "id": "4a3cf2fc-747a-41aa-9d74-50cea643986c",
   "metadata": {},
   "outputs": [],
   "source": [
    "# Visualize the product embeddings learned over time\n",
    "embeds = model.product_embedding.weight.detach().cpu().numpy().copy() # extract embedding layer\n",
    "tsne = TSNE(n_components=2, perplexity=5, random_state=seed, init='random', learning_rate=200)\n",
    "fitted_dims = tsne.fit_transform(embeds)"
   ]
  },
  {
   "cell_type": "code",
   "execution_count": 89,
   "id": "a1dc1d9f-effe-4ff2-b669-fba4923a4369",
   "metadata": {},
   "outputs": [
    {
     "data": {
      "image/png": "[encoded data removed]",
      "text/plain": [
       "<Figure size 640x480 with 1 Axes>"
      ]
     },
     "metadata": {},
     "output_type": "display_data"
    }
   ],
   "source": [
    "x_dim, y_dim = fitted_dims.T\n",
    "plt.scatter(x_dim, y_dim, s=0.1)\n",
    "plt.title(\"TSNE Plot of Product Embedding\")\n",
    "plt.show()"
   ]
  },
  {
   "cell_type": "code",
   "execution_count": null,
   "id": "7758bd81-014d-4348-b449-5da05705c049",
   "metadata": {},
   "outputs": [],
   "source": []
  }
 ],
 "metadata": {
  "kernelspec": {
   "display_name": "Python 3 (ipykernel)",
   "language": "python",
   "name": "python3"
  },
  "language_info": {
   "codemirror_mode": {
    "name": "ipython",
    "version": 3
   },
   "file_extension": ".py",
   "mimetype": "text/x-python",
   "name": "python",
   "nbconvert_exporter": "python",
   "pygments_lexer": "ipython3",
   "version": "3.10.0"
  }
 },
 "nbformat": 4,
 "nbformat_minor": 5
}
